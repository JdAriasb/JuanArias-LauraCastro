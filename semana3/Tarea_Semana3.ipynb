{
 "cells": [
  {
   "cell_type": "code",
   "execution_count": 1,
   "id": "1fb81b20-9e62-4ffc-a785-4422cebd51ba",
   "metadata": {},
   "outputs": [],
   "source": [
    "import numpy as np\n",
    "from celluloid import Camera \n",
    "import matplotlib.pyplot as plt\n",
    "from matplotlib import rc\n",
    "import os.path as path\n",
    "import wget\n",
    "import sympy as sp\n",
    "from scipy import integrate"
   ]
  },
  {
   "cell_type": "markdown",
   "id": "b56a8974-e10e-4bea-acb6-4f49f2d1702a",
   "metadata": {},
   "source": [
    "# 0.1 Colisiones 2D de duración finita (juguemos billar)"
   ]
  },
  {
   "cell_type": "markdown",
   "id": "a617ac1a-94e6-48c7-8ab1-efd53449423c",
   "metadata": {},
   "source": [
    "## 1."
   ]
  },
  {
   "cell_type": "markdown",
   "id": "deae1180-8e44-441d-9249-7b30e4681202",
   "metadata": {},
   "source": [
    "La constante K es el coeficiente de deformación que actúa en cada uno de los objetos del sistema. Para un coeficiente mayor, se requiere una mayor fuerza para modificar la forma del esférica de la bola. El significado físico es la resistencia a la deformación esférica tridimensional debida al material del que se encuentra hecha la bola de billar.\n",
    "La fuerza es conservativa"
   ]
  },
  {
   "cell_type": "code",
   "execution_count": null,
   "id": "0ce11373-b8aa-48e8-a938-6c4f8322c788",
   "metadata": {},
   "outputs": [],
   "source": []
  },
  {
   "cell_type": "code",
   "execution_count": 34,
   "id": "1ca67d59-303d-46cf-a2fa-776efb1fde17",
   "metadata": {
    "id": "CmjG8ZiL9oys"
   },
   "outputs": [],
   "source": [
    "class Particle():\n",
    "\n",
    "    def __init__(self,r0,v0,a0,rd,t,m,Id):\n",
    "\n",
    "        self.r = r0\n",
    "        self.v = v0\n",
    "        self.a = a0\n",
    "        self.dt=t[1]-t[0]\n",
    "\n",
    "        self.rad = rd\n",
    "        self.m = m\n",
    "        self.Id = Id\n",
    "\n",
    "        self.k = m*(np.sum(v0**2)/2)\n",
    "\n",
    "        self.rVector = np.zeros((len(t),len(r0)))\n",
    "        self.vVector = np.zeros((len(t),len(v0)))\n",
    "        self.aVector = np.zeros((len(t),len(a0)))\n",
    "        self.kVector = np.zeros(len(t))\n",
    "   \n",
    "        \n",
    "    def SetPosition(self,i,r):\n",
    "        self.rVector[i]=r\n",
    "    \n",
    "    def SetVelocity(self,i,v):\n",
    "        self.vVector[i]=v\n",
    "    \n",
    "    def SetAceleration(self,i,a):\n",
    "        self.aVector[i] = a\n",
    "        \n",
    "    def SetKinetic(self,i,k):\n",
    "        self.kVector[i]=k\n",
    "        \n",
    "    def GetPositionVector(self):\n",
    "        return self.rVector\n",
    "    \n",
    "    def GetRPositionVector(self):\n",
    "        return self.RrVector\n",
    "    \n",
    "    def GetVelocityVector(self):\n",
    "        return self.vVector\n",
    "        \n",
    "    def GetRVelocityVector(self):\n",
    "        return self.RvVector\n",
    "    \n",
    "    def GetAcelerationVector(self):\n",
    "        return self.aVector\n",
    "    \n",
    "    def GetRAcelerationVector(self):\n",
    "        return self.RaVector\n",
    "    \n",
    "    def GetRad(self):\n",
    "        return self.rad\n",
    "  \n",
    "    def Evolution(self,i):\n",
    "\n",
    "        self.SetPosition(i,self.r)\n",
    "        self.SetVelocity(i,self.v)\n",
    "        self.SetAceleration(i,self.a)\n",
    "        \n",
    "        self.k = self.m*(np.sum(self.v**2)/2)\n",
    "        self.SetK(i, self.k)\n",
    "        \n",
    "        self.v+=self.a*self.dt\n",
    "        self.r+=self.v*self.dt\n",
    "        \n",
    "        self.F=0.\n",
    "        self.a=np.zeros(2)\n",
    "                        \n",
    "    def CheckWallLimits(self,limits,dim,e):        \n",
    "        for i in range(dim):\n",
    "            if  self.v[i]>=0 and self.r[i] + self.rad > limits[i]:\n",
    "                self.v[i] = - self.v[i]*e\n",
    "            elif self.v[i]<=0 and self.r[i] - self.rad < - limits[i]:\n",
    "                self.v[i] = - self.v[i]*e\n",
    "                \n",
    "    def ReduceSize(self,factor):     \n",
    "\n",
    "        self.RrVector = np.array([self.rVector[0]])\n",
    "        self.RvVector = np.array([self.vVector[0]])\n",
    "        self.RkVector = np.array([self.kVector[0]])\n",
    "        \n",
    "        for i in range(1,len(self.rVector)):\n",
    "            if i%factor == 0:\n",
    "                self.RrVector = np.vstack([self.RrVector,self.rVector[i]])\n",
    "                self.RvVector = np.vstack([self.RvVector,self.vVector[i]])\n",
    "                self.RkVector = np.vstack([self.RkVector,self.kVector[i]])\n",
    "    def energyk(self, particulas):\n",
    "        Ek = 0\n",
    "        for particula in particulas:\n",
    "            Eo=particula.m*(la.norm(particula.v))**2\n",
    "            Ek= Eo + Ek\n",
    "        return Ek\n",
    "    \n",
    "    def energyU(self, particulas, g=9.8):\n",
    "        Eu= 0\n",
    "        for particula in particulas:\n",
    "            Eo=particula.m*((np.abs(particula.r[1])))*g\n",
    "            Eu= Eo+Eu\n",
    "        return Eu\n",
    "    \n",
    "                \n",
    "    def golpe(self,Particles):\n",
    "\n",
    "        Forcevector = np.zeros(len(self.a))\n",
    "\n",
    "        #for i in Particles:\n",
    "        #if self.Id != i.Id:\n",
    "        p = np.sum((self.r - Particles.r)[:]**2)**(1/2)\n",
    "        if p < Particles.GetRad() + self.GetRad():\n",
    "            Forcevector[0] += (100*p**2)*(self.r - Particles.r)[0]\n",
    "            Forcevector[1] += (100*p**2)*(self.r - Particles.r)[1]\n",
    "        \n",
    "        self.a = (Forcevector/self.m)"
   ]
  },
  {
   "cell_type": "code",
   "execution_count": 35,
   "id": "dcd80832-8795-42f5-8e85-8ba5bd979805",
   "metadata": {
    "id": "npy3K_X3LEHk"
   },
   "outputs": [],
   "source": [
    "def ReduceTime(t,factor,parts): \n",
    "    for i in range(len(parts)):\n",
    "        parts[i].ReduceSize(factor)\n",
    "       \n",
    "    time = []    \n",
    "    for j in range(len(t)):\n",
    "        if j%factor == 0:\n",
    "            time.append(t[j])            \n",
    "    return np.array(time)"
   ]
  },
  {
   "cell_type": "code",
   "execution_count": 36,
   "id": "151d1fcf-f58b-4354-b2dc-922bca28bc14",
   "metadata": {
    "id": "mNe1C7r69tRX"
   },
   "outputs": [],
   "source": [
    "def Interactions(S,It):\n",
    "    S[It].golpe(S)   \n",
    "    return S"
   ]
  },
  {
   "cell_type": "code",
   "execution_count": 37,
   "id": "a6dcf3d8-fed6-45f8-8b13-44b9f441e738",
   "metadata": {
    "id": "Kkrj_SLD9vyz"
   },
   "outputs": [],
   "source": [
    "Bola1 = Particle(np.array([-10.,1.]), np.array([20.,0.]), np.array([0.,0.]), 2, np.arange(0,10+1e-4,1e-4), 1, 0)\n",
    "Bola2 = Particle(np.array([0.,-1.6]), np.array([0.,0.]), np.array([0.,0.]), 2, np.arange(0,10+1e-4,1e-4), 1, 1)\n",
    "Bola3 = Particle(np.array([-15.,-15.]), np.array([0.,0.]), np.array([0.,0.]), 2, np.arange(0,10+1e-4,1e-4), 1, 2)\n",
    "\n",
    "P=np.array([Bola1,Bola2,Bola3])\n",
    "limits1=[20,20]\n",
    "C=len(P)"
   ]
  },
  {
   "cell_type": "code",
   "execution_count": 41,
   "id": "827e0fbf-4387-44ee-9d1f-fd50a22578b5",
   "metadata": {
    "id": "8mqar-U2Z0nZ"
   },
   "outputs": [],
   "source": [
    "t=np.arange(0,10+1e-4,1e-4)\n",
    "k=np.zeros(len(t))\n",
    "U=np.zeros(len(t))\n",
    "def RunSimulationP(t,P, Limits):\n",
    "    for i in tqdm(range(len(t))):\n",
    "        for j in range(len(P)):\n",
    "            for c in range(len(P)):\n",
    "                if j != c:\n",
    "                    P[j].golpe(P[c])\n",
    "            P[j].CheckWallLimits(Limits,dim = 2,e = 1)\n",
    "            P[j].Evolution(i)\n",
    "            P[j].a = 0\n",
    "        Eki=P[0].energia_del_sistema_k(P)\n",
    "        EUi=P[0].energia_del_sistema_U(P)\n",
    "        k[i]=Eki\n",
    "        U[i]=EUi\n",
    "    return P"
   ]
  },
  {
   "cell_type": "markdown",
   "id": "b12d3fbb-8251-4073-b4bc-0a81d29fa6e0",
   "metadata": {
    "id": "oLiOWT4abCw7"
   },
   "source": []
  },
  {
   "cell_type": "code",
   "execution_count": 43,
   "id": "799c4cab-0320-46ad-ab3c-22c1ba060945",
   "metadata": {
    "colab": {
     "base_uri": "https://localhost:8080/",
     "height": 234
    },
    "id": "qozbzOupLdSH",
    "outputId": "0a694909-e238-41ef-8115-a263f39109ad"
   },
   "outputs": [
    {
     "name": "stderr",
     "output_type": "stream",
     "text": [
      "  0%|                                               | 0/100001 [00:00<?, ?it/s]\n"
     ]
    },
    {
     "ename": "AttributeError",
     "evalue": "'Particle' object has no attribute 'SetK'",
     "output_type": "error",
     "traceback": [
      "\u001b[0;31m---------------------------------------------------------------------------\u001b[0m",
      "\u001b[0;31mAttributeError\u001b[0m                            Traceback (most recent call last)",
      "Input \u001b[0;32mIn [43]\u001b[0m, in \u001b[0;36m<module>\u001b[0;34m\u001b[0m\n\u001b[1;32m      1\u001b[0m Limits \u001b[38;5;241m=\u001b[39m [\u001b[38;5;241m20\u001b[39m,\u001b[38;5;241m20\u001b[39m]\n\u001b[0;32m----> 2\u001b[0m A\u001b[38;5;241m=\u001b[39m\u001b[43mRunSimulationP\u001b[49m\u001b[43m(\u001b[49m\u001b[43mt\u001b[49m\u001b[43m,\u001b[49m\u001b[43mP\u001b[49m\u001b[43m,\u001b[49m\u001b[43m \u001b[49m\u001b[43mLimits\u001b[49m\u001b[43m)\u001b[49m\n\u001b[1;32m      3\u001b[0m ret\u001b[38;5;241m=\u001b[39mReduceTime(t,\u001b[38;5;241m100\u001b[39m,A)\n\u001b[1;32m      5\u001b[0m fig \u001b[38;5;241m=\u001b[39m plt\u001b[38;5;241m.\u001b[39mfigure(figsize\u001b[38;5;241m=\u001b[39m(\u001b[38;5;241m6\u001b[39m,\u001b[38;5;241m6\u001b[39m))\n",
      "Input \u001b[0;32mIn [41]\u001b[0m, in \u001b[0;36mRunSimulationP\u001b[0;34m(t, P, Limits)\u001b[0m\n\u001b[1;32m      9\u001b[0m             P[j]\u001b[38;5;241m.\u001b[39mgolpe(P[c])\n\u001b[1;32m     10\u001b[0m     P[j]\u001b[38;5;241m.\u001b[39mCheckWallLimits(Limits,dim \u001b[38;5;241m=\u001b[39m \u001b[38;5;241m2\u001b[39m,e \u001b[38;5;241m=\u001b[39m \u001b[38;5;241m1\u001b[39m)\n\u001b[0;32m---> 11\u001b[0m     \u001b[43mP\u001b[49m\u001b[43m[\u001b[49m\u001b[43mj\u001b[49m\u001b[43m]\u001b[49m\u001b[38;5;241;43m.\u001b[39;49m\u001b[43mEvolution\u001b[49m\u001b[43m(\u001b[49m\u001b[43mi\u001b[49m\u001b[43m)\u001b[49m\n\u001b[1;32m     12\u001b[0m     P[j]\u001b[38;5;241m.\u001b[39ma \u001b[38;5;241m=\u001b[39m \u001b[38;5;241m0\u001b[39m\n\u001b[1;32m     13\u001b[0m Eki\u001b[38;5;241m=\u001b[39mP[\u001b[38;5;241m0\u001b[39m]\u001b[38;5;241m.\u001b[39menergia_del_sistema_k(P)\n",
      "Input \u001b[0;32mIn [34]\u001b[0m, in \u001b[0;36mParticle.Evolution\u001b[0;34m(self, i)\u001b[0m\n\u001b[1;32m     59\u001b[0m \u001b[38;5;28mself\u001b[39m\u001b[38;5;241m.\u001b[39mSetAceleration(i,\u001b[38;5;28mself\u001b[39m\u001b[38;5;241m.\u001b[39ma)\n\u001b[1;32m     61\u001b[0m \u001b[38;5;28mself\u001b[39m\u001b[38;5;241m.\u001b[39mk \u001b[38;5;241m=\u001b[39m \u001b[38;5;28mself\u001b[39m\u001b[38;5;241m.\u001b[39mm\u001b[38;5;241m*\u001b[39m(np\u001b[38;5;241m.\u001b[39msum(\u001b[38;5;28mself\u001b[39m\u001b[38;5;241m.\u001b[39mv\u001b[38;5;241m*\u001b[39m\u001b[38;5;241m*\u001b[39m\u001b[38;5;241m2\u001b[39m)\u001b[38;5;241m/\u001b[39m\u001b[38;5;241m2\u001b[39m)\n\u001b[0;32m---> 62\u001b[0m \u001b[38;5;28;43mself\u001b[39;49m\u001b[38;5;241;43m.\u001b[39;49m\u001b[43mSetK\u001b[49m(i, \u001b[38;5;28mself\u001b[39m\u001b[38;5;241m.\u001b[39mk)\n\u001b[1;32m     64\u001b[0m \u001b[38;5;28mself\u001b[39m\u001b[38;5;241m.\u001b[39mv\u001b[38;5;241m+\u001b[39m\u001b[38;5;241m=\u001b[39m\u001b[38;5;28mself\u001b[39m\u001b[38;5;241m.\u001b[39ma\u001b[38;5;241m*\u001b[39m\u001b[38;5;28mself\u001b[39m\u001b[38;5;241m.\u001b[39mdt\n\u001b[1;32m     65\u001b[0m \u001b[38;5;28mself\u001b[39m\u001b[38;5;241m.\u001b[39mr\u001b[38;5;241m+\u001b[39m\u001b[38;5;241m=\u001b[39m\u001b[38;5;28mself\u001b[39m\u001b[38;5;241m.\u001b[39mv\u001b[38;5;241m*\u001b[39m\u001b[38;5;28mself\u001b[39m\u001b[38;5;241m.\u001b[39mdt\n",
      "\u001b[0;31mAttributeError\u001b[0m: 'Particle' object has no attribute 'SetK'"
     ]
    }
   ],
   "source": [
    "Limits = [20,20]\n",
    "A=RunSimulationP(t,P, Limits)\n",
    "ret=ReduceTime(t,100,A)\n",
    "\n",
    "fig = plt.figure(figsize=(6,6))\n",
    "ax = fig.add_subplot(1,1,1)\n",
    "ax.set_xlim(-20,20)\n",
    "ax.set_ylim(-20,20)\n",
    "camera = Camera(fig)\n",
    "\n",
    "colors=['r','b','g']\n",
    "labels=['Bola 1','Bola 2','Bola 3']\n",
    "for i in tqdm(range(len(ret))):   \n",
    "    for p in range(len(A)):\n",
    "        x = A[p].GetRPositionVector()[i,0]\n",
    "        y = A[p].GetRPositionVector()[i,1]\n",
    "        \n",
    "        vx = A[p].GetRVelocityVector()[i,0]\n",
    "        vy = A[p].GetRVelocityVector()[i,1]\n",
    "        \n",
    "        circle = plt.Circle( (x,y), A[p].GetRad(), color=colors[p], fill=True)\n",
    "        plot = ax.add_patch(circle)\n",
    "        plot = ax.arrow(x,y,vx,vy,color='r',head_width=0.5)\n",
    "        \n",
    "    camera.snap()\n",
    "    \n",
    "animation = camera.animate(interval=2)\n",
    "animation.save('Carambola.gif')\n"
   ]
  },
  {
   "cell_type": "code",
   "execution_count": null,
   "id": "ff48abdc-0b4e-4a41-8eb5-dbd529aa037f",
   "metadata": {
    "id": "BsI9Mwczd2YY"
   },
   "outputs": [],
   "source": []
  },
  {
   "cell_type": "code",
   "execution_count": 9,
   "id": "c614a49d-d206-4427-ac40-923916d10bbf",
   "metadata": {
    "colab": {
     "base_uri": "https://localhost:8080/",
     "height": 17
    },
    "id": "s-pVnEotYde6",
    "outputId": "1791b57e-1d54-4b09-c46b-12f2f90c66cc"
   },
   "outputs": [
    {
     "name": "stderr",
     "output_type": "stream",
     "text": [
      "/home/juan/.local/lib/python3.8/site-packages/IPython/core/pylabtools.py:151: UserWarning: Creating legend with loc=\"best\" can be slow with large amounts of data.\n",
      "  fig.canvas.print_figure(bytes_io, **kw)\n"
     ]
    },
    {
     "data": {
      "image/png": "[encoded data removed]",
      "text/plain": [
       "<Figure size 432x288 with 1 Axes>"
      ]
     },
     "metadata": {
      "needs_background": "light"
     },
     "output_type": "display_data"
    },
    {
     "data": {
      "text/plain": [
       "<Figure size 432x288 with 0 Axes>"
      ]
     },
     "metadata": {},
     "output_type": "display_data"
    }
   ],
   "source": [
    "plt.figure()\n",
    "plt.plot(t,k,'--',label='Energía cinética')\n",
    "plt.plot(t,U,'--',label='Energía potencial')\n",
    "plt.plot(t,k+U,'-',label='Energía total')\n",
    "plt.xlabel('t[s]')\n",
    "plt.ylabel('E[J]')\n",
    "plt.legend()\n",
    "plt.show()\n",
    "plt.savefig('Energ.png')"
   ]
  },
  {
   "cell_type": "markdown",
   "id": "707675b7-40b9-4a38-9169-4d8bcc41d491",
   "metadata": {},
   "source": [
    "# 0.2 Tiempo libre medio\n",
    "## 1."
   ]
  },
  {
   "cell_type": "code",
   "execution_count": 2,
   "id": "91d62fa1-5b64-4036-ae5d-4b4987bcd55e",
   "metadata": {},
   "outputs": [],
   "source": [
    "Dir = \"Data/\"\n",
    "if not path.exists(Dir):\n",
    "    !mkdir Data"
   ]
  },
  {
   "cell_type": "code",
   "execution_count": 3,
   "id": "2a99db98-035e-46e1-9f87-286c973aeb7e",
   "metadata": {},
   "outputs": [
    {
     "name": "stdout",
     "output_type": "stream",
     "text": [
      "100% [.......................................................] 400000 / 400000Descargado\n"
     ]
    }
   ],
   "source": [
    "file = \"Data/EnergiaPotencialGas2D.dat\"\n",
    "url = \"https://raw.githubusercontent.com/asegura4488/Database/main/MetodosComputacionalesReforma/EnergiaPotencialGas2D.txt\"\n",
    "if not path.exists(file):\n",
    "    Path_=wget.download(url,file)\n",
    "    print(\"Descargado\")\n",
    "else:\n",
    "    Path_=file"
   ]
  },
  {
   "cell_type": "code",
   "execution_count": 4,
   "id": "cad593ba-f00a-4977-906b-f5c2cab7f761",
   "metadata": {},
   "outputs": [
    {
     "data": {
      "image/png": "[encoded data removed]",
      "text/plain": [
       "<Figure size 432x288 with 1 Axes>"
      ]
     },
     "metadata": {
      "needs_background": "light"
     },
     "output_type": "display_data"
    }
   ],
   "source": [
    "data = np.loadtxt(Path_)\n",
    "\n",
    "fig = plt.plot(data[:,0],data[:,1],linestyle='--', label = \"Energía Potencial\")\n",
    "fig = plt.ylabel(\"E[J]\")\n",
    "fig = plt.xlabel(\"t[s]\")\n",
    "fig = plt.legend()"
   ]
  },
  {
   "cell_type": "code",
   "execution_count": 5,
   "id": "26a2be71-d4d8-4233-bd87-c9c727abeeab",
   "metadata": {},
   "outputs": [],
   "source": [
    "\n",
    "f = data[:,1]-np.mean(data[:,1])\n",
    "\n",
    "fft = np.fft.fft(f)"
   ]
  },
  {
   "cell_type": "code",
   "execution_count": 6,
   "id": "23e8842d-dc3c-4455-9d9d-d10a48458241",
   "metadata": {},
   "outputs": [],
   "source": [
    "\n",
    "Npoints = len(f)\n",
    "Frecuencias = np.fft.fftfreq(Npoints,1)\n",
    "ffta = np.abs(fft)"
   ]
  },
  {
   "cell_type": "code",
   "execution_count": 7,
   "id": "0b657d74-d2fd-471f-9c1e-694e8ff6112d",
   "metadata": {},
   "outputs": [
    {
     "data": {
      "text/plain": [
       "[<matplotlib.lines.Line2D at 0x7f91a11e9c40>]"
      ]
     },
     "execution_count": 7,
     "metadata": {},
     "output_type": "execute_result"
    },
    {
     "data": {
      "image/png": "[encoded data removed]",
      "text/plain": [
       "<Figure size 432x288 with 1 Axes>"
      ]
     },
     "metadata": {
      "needs_background": "light"
     },
     "output_type": "display_data"
    }
   ],
   "source": [
    "plt.plot(Frecuencias, np.abs(fft/Npoints))"
   ]
  },
  {
   "cell_type": "code",
   "execution_count": 8,
   "id": "a0ce5909-e2a2-43a7-bde8-9bbf7bf0d1f6",
   "metadata": {},
   "outputs": [],
   "source": [
    "ii = fft != np.max(fft)\n",
    "fft[ii]= 0"
   ]
  },
  {
   "cell_type": "code",
   "execution_count": 9,
   "id": "a6445a17-c13c-43e3-a94f-291473b7e8a2",
   "metadata": {},
   "outputs": [],
   "source": [
    "NewFreq = np.arange(len(fft))"
   ]
  },
  {
   "cell_type": "code",
   "execution_count": 10,
   "id": "31cdefa0-8a74-4561-aedb-8983544a410b",
   "metadata": {},
   "outputs": [],
   "source": [
    "re = np.fft.irfft(fft)"
   ]
  },
  {
   "cell_type": "code",
   "execution_count": 11,
   "id": "1c4d89a5-9f4d-4ecc-a3a5-3dbfb3dbecb3",
   "metadata": {},
   "outputs": [
    {
     "name": "stdout",
     "output_type": "stream",
     "text": [
      "Tiempo libre medio =  0.25306746748436315\n"
     ]
    }
   ],
   "source": [
    "T= 1/np.max(np.abs(fft/Npoints))\n",
    "\n",
    "print(\"Tiempo libre medio = \",T)"
   ]
  },
  {
   "cell_type": "code",
   "execution_count": 12,
   "id": "eb52a5d6-f8da-4aed-906f-b9d9411b63cd",
   "metadata": {},
   "outputs": [],
   "source": [
    "X = np.linspace(np.min(data[:,0]),np.max(data[:,0]),len(re))"
   ]
  },
  {
   "cell_type": "code",
   "execution_count": 13,
   "id": "952986cc-6dd2-4ec2-ab5c-6e77667e7176",
   "metadata": {},
   "outputs": [
    {
     "data": {
      "text/plain": [
       "array([0.00000000e+00, 5.00031256e-04, 1.00006251e-03, ...,\n",
       "       7.99799994e+00, 7.99849997e+00, 7.99900000e+00])"
      ]
     },
     "execution_count": 13,
     "metadata": {},
     "output_type": "execute_result"
    }
   ],
   "source": [
    "X"
   ]
  },
  {
   "cell_type": "code",
   "execution_count": 14,
   "id": "68e46266-edc9-400e-89b3-f5fc3a2fa38b",
   "metadata": {},
   "outputs": [
    {
     "data": {
      "image/png": "[encoded data removed]",
      "text/plain": [
       "<Figure size 432x288 with 1 Axes>"
      ]
     },
     "metadata": {
      "needs_background": "light"
     },
     "output_type": "display_data"
    }
   ],
   "source": [
    "data = np.loadtxt(Path_)\n",
    "\n",
    "\n",
    "fig = plt.plot(data[:,0],data[:,1],linestyle='--', label = \"Energía Potencial\")\n",
    "fig = plt.plot(X, re+np.mean(data[:,1]), label = \"Fundamental\")\n",
    "\n",
    "fig = plt.ylabel(\"E[J]\")\n",
    "fig = plt.xlabel(\"t[s]\")\n",
    "fig = plt.legend()"
   ]
  },
  {
   "cell_type": "markdown",
   "id": "a6813824-f08d-475e-81aa-00dd7897ab5d",
   "metadata": {
    "tags": []
   },
   "source": [
    "# 0.3 Termodinámica"
   ]
  },
  {
   "cell_type": "markdown",
   "id": "bb6e2b7a-c5f2-4a7e-a471-3cfb229695a1",
   "metadata": {},
   "source": [
    "## 1."
   ]
  },
  {
   "cell_type": "code",
   "execution_count": null,
   "id": "5ed4451b-b75e-4d0a-a15b-28e3a43add7d",
   "metadata": {},
   "outputs": [],
   "source": []
  },
  {
   "cell_type": "markdown",
   "id": "080f7b32-2f20-48de-ad86-7294096fec3f",
   "metadata": {
    "tags": []
   },
   "source": [
    "## 2. Cython"
   ]
  },
  {
   "cell_type": "code",
   "execution_count": 15,
   "id": "870a8171-7a62-446d-829d-1f8876f13e7f",
   "metadata": {},
   "outputs": [],
   "source": [
    "!g++ Cython.cpp -o Cython"
   ]
  },
  {
   "cell_type": "code",
   "execution_count": 16,
   "id": "bd55b62c-3fe6-4709-b749-0687ff0c0829",
   "metadata": {},
   "outputs": [
    {
     "name": "stdout",
     "output_type": "stream",
     "text": [
      "0x563ff31b0eb8\n"
     ]
    }
   ],
   "source": [
    "!./Cython"
   ]
  },
  {
   "cell_type": "code",
   "execution_count": 17,
   "id": "459dc1f3-6543-4d3c-9e09-2c8984bdf4fa",
   "metadata": {},
   "outputs": [],
   "source": [
    "data = np.loadtxt(\"Data/DerivadaCentral.txt\")"
   ]
  },
  {
   "cell_type": "code",
   "execution_count": 18,
   "id": "7e4f3605-2736-47ef-9196-675a2a0e5e46",
   "metadata": {},
   "outputs": [
    {
     "data": {
      "text/plain": [
       "Text(0.5, 1.0, 'Derivada central de $e^{-x^2}$')"
      ]
     },
     "execution_count": 18,
     "metadata": {},
     "output_type": "execute_result"
    },
    {
     "data": {
      "image/png": "[encoded data removed]",
      "text/plain": [
       "<Figure size 432x288 with 1 Axes>"
      ]
     },
     "metadata": {
      "needs_background": "light"
     },
     "output_type": "display_data"
    }
   ],
   "source": [
    "plt.plot(data[:,0],data[:,1])\n",
    "plt.xlabel(\"x\")\n",
    "plt.ylabel(\"y\")\n",
    "plt.title(\"Derivada central de $e^{-x^2}$\")"
   ]
  },
  {
   "cell_type": "code",
   "execution_count": null,
   "id": "b90a867e-bb42-4102-bd31-99bfc728fc39",
   "metadata": {},
   "outputs": [],
   "source": []
  },
  {
   "cell_type": "code",
   "execution_count": null,
   "id": "3b220fc4-2360-4c96-a602-d815d76045b9",
   "metadata": {},
   "outputs": [],
   "source": []
  },
  {
   "cell_type": "code",
   "execution_count": null,
   "id": "8e6db8e5-129f-4b5a-978d-2f3bda2a3b09",
   "metadata": {},
   "outputs": [],
   "source": []
  }
 ],
 "metadata": {
  "kernelspec": {
   "display_name": "Python 3 (ipykernel)",
   "language": "python",
   "name": "python3"
  },
  "language_info": {
   "codemirror_mode": {
    "name": "ipython",
    "version": 3
   },
   "file_extension": ".py",
   "mimetype": "text/x-python",
   "name": "python",
   "nbconvert_exporter": "python",
   "pygments_lexer": "ipython3",
   "version": "3.8.10"
  }
 },
 "nbformat": 4,
 "nbformat_minor": 5
}
